{
 "cells": [
  {
   "cell_type": "markdown",
   "metadata": {},
   "source": [
    "## Writing function for AdvLab 2-Slit Experiment"
   ]
  },
  {
   "cell_type": "code",
   "execution_count": 1,
   "metadata": {
    "collapsed": true
   },
   "outputs": [],
   "source": [
    "import numpy as np\n",
    "import math"
   ]
  },
  {
   "cell_type": "code",
   "execution_count": 6,
   "metadata": {
    "collapsed": true
   },
   "outputs": [],
   "source": [
    "# Function to calculate light intensity, from lab manual\n",
    "# a = slit width, im mils\n",
    "a = 16\n",
    "# la = lambda = wavelength, in nm. The red laser is ~670nm in lambda\n",
    "la = 670\n",
    "# i_0 = I naught = initial intensity which is 5mW over a 1 cmsquared photodiode\n",
    "i_0 = 0.005 # converted mW/cm^2 to W/cm^2\n",
    "\n",
    "def I(a, la, i_0, theta):\n",
    "    \"\"\"calculates intensity for portion of diffraction pattern.\n",
    "    a, la, and i_0 should be known and theta represents the changing angle of evaluation.\"\"\"\n",
    "    numerator = math.sin(((math.pi * a)/la)*math.sin(theta))\n",
    "    denom = (math.pi/la)*math.sin(theta)\n",
    "\n",
    "    I = i_0 * (numerator)/(denom)\n",
    "    print(\"Intensity:\", I, \"W/cm^2\")\n",
    "    return"
   ]
  },
  {
   "cell_type": "code",
   "execution_count": 7,
   "metadata": {
    "collapsed": false
   },
   "outputs": [
    {
     "name": "stdout",
     "output_type": "stream",
     "text": [
      "Intensity: 0.08 W/cm^2\n"
     ]
    }
   ],
   "source": [
    "I(a, la, i_0, math.pi)"
   ]
  },
  {
   "cell_type": "code",
   "execution_count": null,
   "metadata": {
    "collapsed": true
   },
   "outputs": [],
   "source": []
  }
 ],
 "metadata": {
  "anaconda-cloud": {},
  "kernelspec": {
   "display_name": "Python [Root]",
   "language": "python",
   "name": "Python [Root]"
  },
  "language_info": {
   "codemirror_mode": {
    "name": "ipython",
    "version": 3
   },
   "file_extension": ".py",
   "mimetype": "text/x-python",
   "name": "python",
   "nbconvert_exporter": "python",
   "pygments_lexer": "ipython3",
   "version": "3.5.2"
  }
 },
 "nbformat": 4,
 "nbformat_minor": 0
}
